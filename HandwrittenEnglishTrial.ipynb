{
 "cells": [
  {
   "cell_type": "code",
   "execution_count": 2,
   "metadata": {},
   "outputs": [],
   "source": [
    "from google.cloud import storage\n",
    "from google.protobuf import json_format\n",
    "from google.cloud import vision_v1p3beta1 as vision"
   ]
  },
  {
   "cell_type": "code",
   "execution_count": 34,
   "metadata": {},
   "outputs": [
    {
     "name": "stdout",
     "output_type": "stream",
     "text": [
      "The quick brown fox jumped over the lazy dogs.\n",
      "el.\n",
      "\n"
     ]
    }
   ],
   "source": [
    "# TEXT_DETECTION\n",
    "filename = 'sample.jpg'\n",
    "\n",
    "client = vision.ImageAnnotatorClient()\n",
    "response = client.text_detection(image=open(filename,'rb'))\n",
    "\n",
    "if response.error.code == 0 :\n",
    "    print(response.text_annotations[0].description)\n",
    "else:\n",
    "    print(\"Error code: {}\".format(response.error.code))"
   ]
  },
  {
   "cell_type": "code",
   "execution_count": 7,
   "metadata": {},
   "outputs": [
    {
     "name": "stdout",
     "output_type": "stream",
     "text": [
      "Hells, world\n",
      "Thank yo\n",
      "208 Aug\n",
      "6s\n",
      "\n"
     ]
    }
   ],
   "source": [
    "# TEXT_DETECTION\n",
    "filename = 'handwritten.png'\n",
    "\n",
    "client = vision.ImageAnnotatorClient()\n",
    "\n",
    "response_td = client.annotate_image({\n",
    "    'image': {'content':  open(filename, 'rb').read() },\n",
    "    'features': [{'type': vision.enums.Feature.Type.TEXT_DETECTION}],\n",
    "    'image_context': { 'language_hints': ['en-t-i0-handwrit']},\n",
    "})\n",
    "\n",
    "if response_td.error.code == 0 :\n",
    "    #print(response_td.text_annotations[0].description)\n",
    "    print(response_td.text_annotations[0].description)\n",
    "else:\n",
    "    print(\"Error code: {}\".format(response_td.error.code))"
   ]
  },
  {
   "cell_type": "code",
   "execution_count": 5,
   "metadata": {},
   "outputs": [
    {
     "name": "stdout",
     "output_type": "stream",
     "text": [
      "Hello, World,\n",
      "Happy Hacking\n",
      "Thank you.\n",
      "2018 Aug. 10,\n",
      "012345\n",
      "6789\n",
      "ap\n",
      "\n"
     ]
    }
   ],
   "source": [
    "# TDOCUMENT_TEXT_DETECTION\n",
    "filename = 'handwritten.png'\n",
    "\n",
    "client = vision.ImageAnnotatorClient()\n",
    "\n",
    "response_d = client.annotate_image({\n",
    "    'image': {'content':  open(filename, 'rb').read() },\n",
    "    'features': [{'type': vision.enums.Feature.Type.DOCUMENT_TEXT_DETECTION}],\n",
    "    #'image_context': { 'language_hints': ['en-t-i0-handwrit']},\n",
    "})\n",
    "\n",
    "if response_d.error.code == 0 :\n",
    "    print(response_d.text_annotations[0].description)\n",
    "else:\n",
    "    print(\"Error code: {}\".format(response_d.error.code))"
   ]
  },
  {
   "cell_type": "code",
   "execution_count": 9,
   "metadata": {},
   "outputs": [
    {
     "name": "stdout",
     "output_type": "stream",
     "text": [
      "Hello, would\n",
      "Happy Hacking\n",
      "Thank you\n",
      "2018 Aug. 10\n",
      "012345\n",
      "6289\n",
      "Q\n",
      "\n"
     ]
    }
   ],
   "source": [
    "# TDOCUMENT_TEXT_DETECTION pattern 2\n",
    "filename = 'handwritten.png'\n",
    "\n",
    "client = vision.ImageAnnotatorClient()\n",
    "image = vision.types.Image()\n",
    "\n",
    "# image.source.image_uri = uri  # uri: The path to the file in Google Cloud Storage (gs://...)\n",
    "image.content = open(filename, 'rb').read()\n",
    "\n",
    "image_context = vision.types.ImageContext(\n",
    "        language_hints=['en-t-i0-handwrit']\n",
    "#    language_hints=['mul-Latn-t-i0-handwrit']\n",
    ")\n",
    "\n",
    "response_d2 = client.document_text_detection(image, image_context=image_context)\n",
    "\n",
    "if response_d2.error.code == 0 :\n",
    "    print(response_d2.text_annotations[0].description)\n",
    "else:\n",
    "    print(\"Error code: {}\".format(response_d2.error.code))"
   ]
  }
 ],
 "metadata": {
  "kernelspec": {
   "display_name": "Python 3",
   "language": "python",
   "name": "python3"
  },
  "language_info": {
   "codemirror_mode": {
    "name": "ipython",
    "version": 3
   },
   "file_extension": ".py",
   "mimetype": "text/x-python",
   "name": "python",
   "nbconvert_exporter": "python",
   "pygments_lexer": "ipython3",
   "version": "3.7.0"
  }
 },
 "nbformat": 4,
 "nbformat_minor": 2
}
